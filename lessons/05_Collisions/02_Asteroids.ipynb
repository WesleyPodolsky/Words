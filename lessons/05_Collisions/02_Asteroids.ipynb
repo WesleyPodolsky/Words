{
 "cells": [
  {
   "cell_type": "markdown",
   "metadata": {},
   "source": [
    "# Updating Asteroids\n",
    "\n",
    "Now we can update the asteroids game to make it not boring anymore. \n",
    "\n",
    "Copy your last boring asteroids program with the sprite to this directory\n",
    "\n",
    "The player should be able to fly around the screen, wrapping around from left to\n",
    "right and top to bottom. \n",
    "\n",
    "The player can shoot bullets by pressing the space bar. The bullets should not\n",
    "wrap around the screen; when they go off the screen, they should disappear.\n",
    "(Hint: you can use the `kill()` method to remove a sprite from all groups)\n",
    "\n",
    "Add asteroids that float around the screen. They should wrap around the screen\n",
    "like the player does.\n",
    "\n",
    "If a bullet hits an asteroid, the bullet and the asteroid should both disappear.\n",
    "\n",
    "Add a scoring system. When the player hits an asteroid, the player gets a point.\n",
    "Display the score on the screen.\n",
    "\n",
    "If the player hits an asteroid, the player should lose energy. The game should\n",
    "end when the player runs out of energy. Display the energy level on the screen.\n",
    "\n",
    "Add a game over screen that displays the player's score."
   ]
  },
  {
   "cell_type": "markdown",
   "metadata": {},
   "source": [
    "## Next Steps\n",
    "\n",
    "1. CIYC & RTPD \n",
    "2. Open [06_Surfaces/README.md](../06_Surfaces/README.md) to learn about surfaces"
   ]
  },
  {
   "cell_type": "markdown",
   "metadata": {},
   "source": []
  }
 ],
 "metadata": {
  "language_info": {
   "name": "python"
  }
 },
 "nbformat": 4,
 "nbformat_minor": 2
}
