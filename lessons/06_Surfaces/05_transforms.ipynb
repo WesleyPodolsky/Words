{
 "cells": [
  {
   "cell_type": "markdown",
   "metadata": {},
   "source": [
    "# Transform Images\n",
    "\n",
    "The [pygame.transform](https://www.pygame.org/docs/ref/transform.html) module\n",
    "provides simple functions to scale, rotate, flip, and transform images. In this\n",
    "notebook, we will see how to use these functions to transform images.\n",
    "\n",
    "## Transformations\n",
    "\n",
    "The most important transformations that you can make to an image are: \n",
    "\n",
    "* **Scale**: Change the size of the image.\n",
    "* **Rotate**: Rotate the image by a given angle.\n",
    "* **Flip**: Flip the image horizontally, vertically, or both.\n",
    "\n",
    "## Assignment 1\n",
    "\n",
    "1. Review the program `06_transform.py` and run it. This program will\n",
    "   demonstrate several types of transformations. You've seen several of them in\n",
    "   programs already, so most of them should be familiar. \n",
    "2. Update one of your previous programs ( your updates to\n",
    "   `04_gravity_bounce_vec.py` would be a good choice ) to include a\n",
    "   transformation. For instance. you could rotate the image of the ball ( or\n",
    "   frog, whatever you want ) as it moves, or make it get squashed when it hits\n",
    "   the ground, and get stretched when it is jumping. \n",
    "\n",
    "\n",
    "If you update gravity bounce:\n",
    "\n",
    "* Use the frog image, taken from the spritesheet. \n",
    "* When the frog jumps, make it stretch taller ( scale the image vertically )\n",
    "* When the frog hits the ground, make it squish shorter ( scale the image vertically )\n",
    "* When the frog is in the air, make it rotate. \n"
   ]
  },
  {
   "cell_type": "markdown",
   "metadata": {
    "vscode": {
     "languageId": "plaintext"
    }
   },
   "source": [
    "## Next Steps\n",
    "\n",
    "CIYC, RTPD and then open [07_Projects/README.md](../07_Projects/README.md) to get started on creating your own game. "
   ]
  }
 ],
 "metadata": {
  "language_info": {
   "name": "python"
  }
 },
 "nbformat": 4,
 "nbformat_minor": 2
}
